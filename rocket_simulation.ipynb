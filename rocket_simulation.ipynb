{
 "cells": [
  {
   "cell_type": "markdown",
   "metadata": {},
   "source": [
    "# \ud83d\ude80 Rocket Flight Simulator\n",
    "Upload your `flight_data.csv`, mark flight events, and view the altitude graph!"
   ]
  },
  {
   "cell_type": "code",
   "execution_count": null,
   "metadata": {},
   "outputs": [],
   "source": [
    "import pandas as pd\n",
    "import matplotlib.pyplot as plt\n",
    "import ipywidgets as widgets\n",
    "from IPython.display import display\n",
    "\n",
    "# Upload CSV widget\n",
    "upload = widgets.FileUpload(accept='.csv', multiple=False)\n",
    "display(upload)\n",
    "\n",
    "def load_file(change):\n",
    "    if upload.value:\n",
    "        content = next(iter(upload.value.values()))['content']\n",
    "        with open('flight_data.csv', 'wb') as f:\n",
    "            f.write(content)\n",
    "        df = pd.read_csv('flight_data.csv')\n",
    "        fig, ax = plt.subplots(figsize=(10, 4))\n",
    "        ax.plot(df['time'], df['pos_z'], label='Altitude')\n",
    "        ax.set_xlabel('Time (s)')\n",
    "        ax.set_ylabel('Altitude (m)')\n",
    "        ax.grid(True)\n",
    "        ax.legend()\n",
    "        plt.show()\n",
    "\n",
    "upload.observe(load_file, names='value')"
   ]
  }
 ],
 "metadata": {
  "kernelspec": {
   "display_name": "Python 3",
   "language": "python",
   "name": "python3"
  },
  "language_info": {
   "name": "python",
   "version": "3.8"
  }
 },
 "nbformat": 4,
 "nbformat_minor": 5
}