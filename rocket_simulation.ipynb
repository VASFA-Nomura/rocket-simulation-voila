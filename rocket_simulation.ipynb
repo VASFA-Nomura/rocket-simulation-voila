{
 "cells": [
  {
   "cell_type": "markdown",
   "metadata": {},
   "source": [
    "# \ud83d\ude80 Full Rocket Flight Simulation\n",
    "Upload your `flight_data.csv`, mark events, and view 3D animation results."
   ]
  }
 ],
 "metadata": {
  "kernelspec": {
   "display_name": "Python 3",
   "language": "python",
   "name": "python3"
  },
  "language_info": {
   "name": "python",
   "version": "3.8"
  }
 },
 "nbformat": 4,
 "nbformat_minor": 5
}